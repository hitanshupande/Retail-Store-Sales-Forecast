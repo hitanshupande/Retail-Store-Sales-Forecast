{
 "cells": [
  {
   "cell_type": "markdown",
   "metadata": {},
   "source": [
    "# Data Science Challenge\n",
    "#### Hitanshu Pande  |  513-580-6169 |  hitanshu.pande@gmail.com\n",
    "#### 727 MLK Dr W, Apt 903W, Cincinnati-45220 \n",
    "----------------------------------------------------------\n",
    "\n",
    "<b>Challenge</b>:\n",
    "Build a predictive model that can identify a shopper’s likelihood to return to the store next week (Sun – Sat) AND purchase less than 3 units based on their past shopping behavior. \n",
    "\n",
    "\n",
    "<b>Deliverables</b>:\n",
    "Recommend a model that best solves the problem, expected model performance  and any other findings\n",
    "What additional data that might improve your model performance\n",
    "“Show your work” - any background on how you got your recommended model.\n",
    "\n",
    "\n",
    "<b>Data</b>:\n",
    "Each observation is trip to the retail store. \n",
    "The data contains all trips for a sample of shoppers from 3/20/2015 – 3/26/2016\n",
    "\n",
    "## Solution\n",
    "-----------------------------------------------------------\n",
    "Let's take a look at the raw data and perform some initial exploratory analysis"
   ]
  },
  {
   "cell_type": "code",
   "execution_count": 22,
   "metadata": {
    "collapsed": false
   },
   "outputs": [
    {
     "data": {
      "text/plain": [
       "cust_id              int64\n",
       "order_date          object\n",
       "lane_number          int64\n",
       "total_spend        float64\n",
       "units_purchased      int64\n",
       "dtype: object"
      ]
     },
     "execution_count": 22,
     "metadata": {},
     "output_type": "execute_result"
    }
   ],
   "source": [
    "import pandas as pd\n",
    "import numpy as np\n",
    "import pylab as plt\n",
    "import os\n",
    "import datetime\n",
    "%matplotlib inline  \n",
    "os.chdir('D:\\Python\\Catalina Challenge')\n",
    "df = pd.read_csv(\"data_science_challenge_samp_18.csv\")\n",
    "df.dtypes"
   ]
  },
  {
   "cell_type": "code",
   "execution_count": 9,
   "metadata": {
    "collapsed": false
   },
   "outputs": [
    {
     "data": {
      "text/html": [
       "<div>\n",
       "<table border=\"1\" class=\"dataframe\">\n",
       "  <thead>\n",
       "    <tr style=\"text-align: right;\">\n",
       "      <th></th>\n",
       "      <th>cust_id</th>\n",
       "      <th>order_date</th>\n",
       "      <th>lane_number</th>\n",
       "      <th>total_spend</th>\n",
       "      <th>units_purchased</th>\n",
       "    </tr>\n",
       "  </thead>\n",
       "  <tbody>\n",
       "    <tr>\n",
       "      <th>0</th>\n",
       "      <td>4239597436</td>\n",
       "      <td>3/20/2015</td>\n",
       "      <td>3</td>\n",
       "      <td>19.84</td>\n",
       "      <td>5</td>\n",
       "    </tr>\n",
       "    <tr>\n",
       "      <th>1</th>\n",
       "      <td>4913827536</td>\n",
       "      <td>3/20/2015</td>\n",
       "      <td>3</td>\n",
       "      <td>11.1</td>\n",
       "      <td>5</td>\n",
       "    </tr>\n",
       "    <tr>\n",
       "      <th>2</th>\n",
       "      <td>4913827536</td>\n",
       "      <td>3/20/2015</td>\n",
       "      <td>1</td>\n",
       "      <td>10</td>\n",
       "      <td>1</td>\n",
       "    </tr>\n",
       "    <tr>\n",
       "      <th>3</th>\n",
       "      <td>4271866537</td>\n",
       "      <td>3/20/2015</td>\n",
       "      <td>5</td>\n",
       "      <td>13.68</td>\n",
       "      <td>2</td>\n",
       "    </tr>\n",
       "    <tr>\n",
       "      <th>4</th>\n",
       "      <td>5316845735</td>\n",
       "      <td>3/20/2015</td>\n",
       "      <td>4</td>\n",
       "      <td>5.29</td>\n",
       "      <td>1</td>\n",
       "    </tr>\n",
       "  </tbody>\n",
       "</table>\n",
       "</div>"
      ],
      "text/plain": [
       "      cust_id order_date  lane_number total_spend  units_purchased\n",
       "0  4239597436  3/20/2015            3       19.84                5\n",
       "1  4913827536  3/20/2015            3        11.1                5\n",
       "2  4913827536  3/20/2015            1          10                1\n",
       "3  4271866537  3/20/2015            5       13.68                2\n",
       "4  5316845735  3/20/2015            4        5.29                1"
      ]
     },
     "execution_count": 9,
     "metadata": {},
     "output_type": "execute_result"
    }
   ],
   "source": [
    "df.head()"
   ]
  },
  {
   "cell_type": "markdown",
   "metadata": {},
   "source": [
    "From the given data, here is what we can say about the following variables:\n",
    "\n",
    "\n",
    "| Column        | Details           | \n",
    "| ------------- |-------------| \n",
    "| cust_id     | This is the unique identifier for each customer. Same customer id appears multiple times which indicates that the same customer has made multiple purchases. Sometimes on the same day | \n",
    "| order_date      | This is the date the transaction took place.      |\n",
    "| lane_number | This is the lane number where the transaction was registered. For the purpose of this challenge, we will not use this feature      |\n",
    "| total_spend | Total amount that was spent in that given transaction  |\n",
    "| units_purchased | Total units that were purchased in that given transaction  |"
   ]
  },
  {
   "cell_type": "markdown",
   "metadata": {},
   "source": [
    "As seen above, since the data type of \"order_date\" is object, we want to change it to Date/Time"
   ]
  },
  {
   "cell_type": "code",
   "execution_count": 14,
   "metadata": {
    "collapsed": false
   },
   "outputs": [
    {
     "data": {
      "text/plain": [
       "cust_id                     int64\n",
       "order_date         datetime64[ns]\n",
       "lane_number                 int64\n",
       "total_spend               float64\n",
       "units_purchased             int64\n",
       "dtype: object"
      ]
     },
     "execution_count": 14,
     "metadata": {},
     "output_type": "execute_result"
    }
   ],
   "source": [
    "df['order_date'] = pd.to_datetime(df['order_date'])\n",
    "df.dtypes"
   ]
  },
  {
   "cell_type": "markdown",
   "metadata": {},
   "source": [
    "### Check for missing data"
   ]
  },
  {
   "cell_type": "code",
   "execution_count": 20,
   "metadata": {
    "collapsed": false
   },
   "outputs": [
    {
     "name": "stdout",
     "output_type": "stream",
     "text": [
      "Missing values per column:\n",
      "cust_id            0\n",
      "order_date         0\n",
      "lane_number        0\n",
      "total_spend        0\n",
      "units_purchased    0\n",
      "dtype: int64\n"
     ]
    }
   ],
   "source": [
    "#Applying per column:\n",
    "def num_missing(x):\n",
    "  return sum(x.isnull())\n",
    "print(\"Missing values per column:\")\n",
    "print(df.apply(num_missing, axis=0)) #axis=0 defines that function is to be applied on each column"
   ]
  },
  {
   "cell_type": "markdown",
   "metadata": {},
   "source": [
    "As we see above, there are no missing values in our dataset"
   ]
  },
  {
   "cell_type": "markdown",
   "metadata": {},
   "source": [
    "### How many unique customers are there?"
   ]
  },
  {
   "cell_type": "code",
   "execution_count": 18,
   "metadata": {
    "collapsed": false
   },
   "outputs": [
    {
     "data": {
      "text/plain": [
       "12489"
      ]
     },
     "execution_count": 18,
     "metadata": {},
     "output_type": "execute_result"
    }
   ],
   "source": [
    "df['cust_id'].unique().size"
   ]
  },
  {
   "cell_type": "markdown",
   "metadata": {},
   "source": [
    "### Distribution of total spend and units purchased by each customer"
   ]
  },
  {
   "cell_type": "code",
   "execution_count": 26,
   "metadata": {
    "collapsed": false
   },
   "outputs": [
    {
     "data": {
      "text/plain": [
       "<matplotlib.collections.PathCollection at 0x277ae826630>"
      ]
     },
     "execution_count": 26,
     "metadata": {},
     "output_type": "execute_result"
    },
    {
     "data": {
      "image/png": "[encoded data removed]",
      "text/plain": [
       "<matplotlib.figure.Figure at 0x277a5cb2cc0>"
      ]
     },
     "metadata": {},
     "output_type": "display_data"
    }
   ],
   "source": [
    "# Group data by Customer ID\n",
    "a = df.groupby(['cust_id']).sum()\n",
    "a = a.reset_index()\n",
    "plt.xlabel('Customers', fontsize=18)\n",
    "plt.ylabel('Total Spend', fontsize=16)\n",
    "plt.scatter(a['cust_id'],a['total_spend'],color='k',alpha=.2,s=2)\n"
   ]
  },
  {
   "cell_type": "code",
   "execution_count": 27,
   "metadata": {
    "collapsed": false
   },
   "outputs": [
    {
     "data": {
      "text/plain": [
       "<matplotlib.collections.PathCollection at 0x277abd8e160>"
      ]
     },
     "execution_count": 27,
     "metadata": {},
     "output_type": "execute_result"
    },
    {
     "data": {
      "image/png": "[encoded data removed]",
      "text/plain": [
       "<matplotlib.figure.Figure at 0x277aa4ea160>"
      ]
     },
     "metadata": {},
     "output_type": "display_data"
    }
   ],
   "source": [
    "plt.xlabel('Customers', fontsize=18)\n",
    "plt.ylabel('Total Units Purchased', fontsize=16)\n",
    "plt.scatter(a['cust_id'],a['units_purchased'],color='k',alpha=.2,s=2)"
   ]
  },
  {
   "cell_type": "markdown",
   "metadata": {},
   "source": [
    "As we see in the two graphs above, the median total spend for each customer seems to lie somewhere between 0 and 2000. Similarly, the median total units purchased for each customer seems to lie between 0 and 500. There are outliers where the total spend and total units bought see much higher values.\n",
    "\n",
    "We can also observe that there is a high corelation between total spend and total units purchased by each customer as the 2 graphs have near identical distributions.\n",
    "\n",
    "The gap in the x-axis for Customers signifies a lack to assigned Customer IDs between 6000000000 and 640000000.\n"
   ]
  },
  {
   "cell_type": "markdown",
   "metadata": {},
   "source": [
    "### Distribution of total sales by day"
   ]
  },
  {
   "cell_type": "code",
   "execution_count": 31,
   "metadata": {
    "collapsed": false
   },
   "outputs": [
    {
     "data": {
      "text/plain": [
       "cust_id                     int64\n",
       "order_date         datetime64[ns]\n",
       "lane_number                 int64\n",
       "total_spend               float64\n",
       "units_purchased             int64\n",
       "dtype: object"
      ]
     },
     "execution_count": 31,
     "metadata": {},
     "output_type": "execute_result"
    }
   ],
   "source": [
    "df['order_date'] = pd.to_datetime(df['order_date'])\n"
   ]
  },
  {
   "cell_type": "code",
   "execution_count": 33,
   "metadata": {
    "collapsed": false
   },
   "outputs": [
    {
     "data": {
      "text/plain": [
       "<matplotlib.text.Text at 0x277aca6ee10>"
      ]
     },
     "execution_count": 33,
     "metadata": {},
     "output_type": "execute_result"
    },
    {
     "data": {
      "image/png": "[encoded data removed]",
      "text/plain": [
       "<matplotlib.figure.Figure at 0x277aa55ef60>"
      ]
     },
     "metadata": {},
     "output_type": "display_data"
    }
   ],
   "source": [
    "sales_by_day = df.groupby(['order_date']).sum()\n",
    "sales_by_day = sales_by_day.reset_index()\n",
    "sales_by_day.dtypes\n",
    "\n",
    "x = sales_by_day['order_date']\n",
    "y = sales_by_day['total_spend']\n",
    "plt.plot_date(x, y, xdate='True')\n",
    "plt.xlabel('Day', fontsize=18)\n",
    "plt.ylabel('Total Spend', fontsize=16)\n",
    "#plt.plot_date(x, y, xdate='True')"
   ]
  },
  {
   "cell_type": "markdown",
   "metadata": {},
   "source": [
    "There are 2 visible spikes in sales during the year. One is in December, during Christmas. There is also a steep fall in sales immediately after Christmas. There is another spike in sale during March."
   ]
  },
  {
   "cell_type": "markdown",
   "metadata": {},
   "source": [
    "### Distribution of total units sold by week and day "
   ]
  },
  {
   "cell_type": "markdown",
   "metadata": {},
   "source": [
    "Let's look at how sale of units is distributed across weeks in a year and the day of the week"
   ]
  },
  {
   "cell_type": "code",
   "execution_count": 46,
   "metadata": {
    "collapsed": false
   },
   "outputs": [
    {
     "data": {
      "text/plain": [
       "<matplotlib.axes._subplots.AxesSubplot at 0x277a60c4b00>"
      ]
     },
     "execution_count": 46,
     "metadata": {},
     "output_type": "execute_result"
    },
    {
     "data": {
      "image/png": "[encoded data removed]",
      "text/plain": [
       "<matplotlib.figure.Figure at 0x277a613b978>"
      ]
     },
     "metadata": {},
     "output_type": "display_data"
    }
   ],
   "source": [
    "df2 = df\n",
    "# Assign a week number to each date\n",
    "df2['weekNo'] = df2['order_date'].dt.week\n",
    "df2['dayOfWeek'] = df2['order_date'].dt.weekday_name\n",
    "#Check sales by week\n",
    "weekly_sales = df2.groupby('weekNo').sum()\n",
    "weekly_sales = weekly_sales.reset_index()\n",
    "weekly_units = pd.Series(weekly_sales['units_purchased'], index=weekly_sales['weekNo'])\n",
    "weekly_units.plot.bar()\n"
   ]
  },
  {
   "cell_type": "markdown",
   "metadata": {},
   "source": [
    "For the most part, total units sold do not show a lot of deviation from mean. However, week#11 shows a massive spike in units sold. It is unclear from the given data what the cause of that might be."
   ]
  },
  {
   "cell_type": "markdown",
   "metadata": {},
   "source": [
    "### Distribution of units sold by day of week"
   ]
  },
  {
   "cell_type": "code",
   "execution_count": 60,
   "metadata": {
    "collapsed": false
   },
   "outputs": [
    {
     "data": {
      "image/png": "[encoded data removed]",
      "text/plain": [
       "<matplotlib.figure.Figure at 0x277a68ff3c8>"
      ]
     },
     "metadata": {},
     "output_type": "display_data"
    }
   ],
   "source": [
    "#Check sales by day of week\n",
    "sale_by_day = df2.groupby('dayOfWeek').sum()\n",
    "sale_by_day = sale_by_day.reset_index() \n",
    "\n",
    "sale_by_day\n",
    "DayOfWeekOfCall = [0,1,2,3,4,5,6]\n",
    "LABELS = [\"Friday\", \"Monday\", \"Saturday\", \"Sunday\", \"Thursday\", \"Tuesday\", \"Wednesday\"]\n",
    "plt.bar(DayOfWeekOfCall, sale_by_day['units_purchased'], align='center')\n",
    "plt.xticks(DayOfWeekOfCall, LABELS)\n",
    "plt.xlabel('Day of Week', fontsize=18)\n",
    "plt.ylabel('Units purchased', fontsize=16)\n",
    "plt.show()\n",
    "#x = sale_by_day['dayOfWeek']\n",
    "#y = sale_by_day['units_purchased']\n",
    "#plt.plot_date(x, y, xdate='True')\n"
   ]
  },
  {
   "cell_type": "markdown",
   "metadata": {},
   "source": [
    "Total units purchased vary quite a bit based on the day of the week. Friday had the maximum sales, whereas Sunday recorded lowest sale over the period of a year."
   ]
  },
  {
   "cell_type": "markdown",
   "metadata": {},
   "source": [
    "## Build a predictive model that can identify a shopper’s likelihood to return using Customer Lifetime Value (CLV)"
   ]
  },
  {
   "cell_type": "markdown",
   "metadata": {},
   "source": [
    "Faced with a dataset containing information on the frequency and timing of transactions for a list of past customers, it is natural to try to make forecasts about future purchasing patterns. These projections often range from aggregate sales trajectories (e.g., for the next 52 weeks), to individual-level conditional expectations (i.e., the best guess about a particular customer’s future purchasing, given information about his past behavior).\n",
    "\n",
    "For me, this problem falls under the broader umbrella of the Customer Lifetime Value calculation. CLV research aims to model the net revenue that can be extracted from a customer. Getting a successful model to calculate CLV allows firms to adjust their marketing strategies, pricing and handling churn. \n",
    "\n",
    "There are two broad distinctions in which the CLV model falls under. \n",
    "\n",
    "### 1. Contractual  2. Non-Contractual\n",
    "\n",
    "Contractual models are for purchases that  generally fall under a contract, eg: Monthly subscriptions, Credit Card Payments, etc. The data set given to us is a Non-Contractual one, as the customer is under no contract or obligation to make a purchase.\n",
    "\n",
    "One of the first models to explicitly address the Non-Contractual model is the Pareto/NBD “Counting Your Customers” framework originally proposed by Schmittlein, Morrison, and Colombo (1987) which uses the RFM technique.\n",
    "\n",
    "RFM refers to a modelling technique that utilises Recency Frequency and Monetary (RFM) data from client records \n",
    "\n",
    "In order to calculate the probability of purchase, the most common models used are the <b>Pareto/NBD Model</b> or it's variation <b>BG/NBD</b> model.\n",
    "\n",
    "From our dataset, we know how many transaction occurreds in each of a series of discrete time-intervals. For example, the following transaction history:"
   ]
  },
  {
   "cell_type": "code",
   "execution_count": 66,
   "metadata": {
    "collapsed": false
   },
   "outputs": [
    {
     "data": {
      "image/jpeg": "[encoded data removed]",
      "text/plain": [
       "<IPython.core.display.Image object>"
      ]
     },
     "execution_count": 66,
     "metadata": {},
     "output_type": "execute_result"
    }
   ],
   "source": [
    "from IPython.core.display import Image\n",
    "Image(filename=('C:/Users/Hitanshu/Pictures/RFM.jpg'))"
   ]
  },
  {
   "cell_type": "markdown",
   "metadata": {},
   "source": [
    "The image(reference only) above shows the number of transactions carried out by each customer in a given Time period T. Given our problem statement, we want to estimate if a given customer will make a transaction the next week. \n",
    "\n",
    "The first step to customer analysis is to find a good mathematical model to describe customer repeat purchases.  This doesn't have to get complicated, Fader and Hardie only consider timing as a primary factor.  There have been quite a few canonical models proposed, first is called the Pareto/NBD Model by Schmittlein et al. in 1984.  An alternate and easier to implement model called the BG/NBD model was later proposed by Fader and Hardie\n",
    "\n",
    "Heres a run down of the BG/NBD model (surprisingly simple actually):  Customers will come and buy at an interval that's randomly distributed within a reasonable time range.  After each purchase they have a certain probability of dying or becoming inactive (never returning to buy again).  Each customer is different and have varying purchase intervals and probability of going inactive."
   ]
  },
  {
   "cell_type": "markdown",
   "metadata": {},
   "source": [
    "<b>The BG/NBD model only requires three primary components for each unique customer:</b>\n",
    "\n",
    "Frequency: The number of repeat purchases that they have made.\n",
    "\n",
    "\n",
    "Recency: When was the last time that they have made a purchase since their first purchase.\n",
    "\n",
    "\n",
    "Customer Age: The end of our observation period minus out the period that they made their first purchase."
   ]
  },
  {
   "cell_type": "code",
   "execution_count": 67,
   "metadata": {
    "collapsed": false
   },
   "outputs": [
    {
     "data": {
      "text/html": [
       "<div>\n",
       "<table border=\"1\" class=\"dataframe\">\n",
       "  <thead>\n",
       "    <tr style=\"text-align: right;\">\n",
       "      <th></th>\n",
       "      <th>frequency</th>\n",
       "      <th>recency</th>\n",
       "      <th>T</th>\n",
       "      <th>monetary_value</th>\n",
       "    </tr>\n",
       "    <tr>\n",
       "      <th>cust_id</th>\n",
       "      <th></th>\n",
       "      <th></th>\n",
       "      <th></th>\n",
       "      <th></th>\n",
       "    </tr>\n",
       "  </thead>\n",
       "  <tbody>\n",
       "    <tr>\n",
       "      <th>4239597436</th>\n",
       "      <td>69.0</td>\n",
       "      <td>372.0</td>\n",
       "      <td>373.0</td>\n",
       "      <td>4.406780</td>\n",
       "    </tr>\n",
       "    <tr>\n",
       "      <th>4913827536</th>\n",
       "      <td>13.0</td>\n",
       "      <td>372.0</td>\n",
       "      <td>373.0</td>\n",
       "      <td>3.181818</td>\n",
       "    </tr>\n",
       "    <tr>\n",
       "      <th>4271866537</th>\n",
       "      <td>103.0</td>\n",
       "      <td>369.0</td>\n",
       "      <td>373.0</td>\n",
       "      <td>2.654321</td>\n",
       "    </tr>\n",
       "    <tr>\n",
       "      <th>5316845735</th>\n",
       "      <td>89.0</td>\n",
       "      <td>372.0</td>\n",
       "      <td>373.0</td>\n",
       "      <td>1.647059</td>\n",
       "    </tr>\n",
       "    <tr>\n",
       "      <th>4396245635</th>\n",
       "      <td>93.0</td>\n",
       "      <td>370.0</td>\n",
       "      <td>373.0</td>\n",
       "      <td>4.164384</td>\n",
       "    </tr>\n",
       "  </tbody>\n",
       "</table>\n",
       "</div>"
      ],
      "text/plain": [
       "            frequency  recency      T  monetary_value\n",
       "cust_id                                              \n",
       "4239597436       69.0    372.0  373.0        4.406780\n",
       "4913827536       13.0    372.0  373.0        3.181818\n",
       "4271866537      103.0    369.0  373.0        2.654321\n",
       "5316845735       89.0    372.0  373.0        1.647059\n",
       "4396245635       93.0    370.0  373.0        4.164384"
      ]
     },
     "execution_count": 67,
     "metadata": {},
     "output_type": "execute_result"
    }
   ],
   "source": [
    "from lifetimes.utils import summary_data_from_transaction_data\n",
    "\n",
    "summary = summary_data_from_transaction_data(df, 'cust_id', 'order_date','units_purchased', observation_period_end='2016-03-27')\n",
    "summary.head()"
   ]
  },
  {
   "cell_type": "code",
   "execution_count": 68,
   "metadata": {
    "collapsed": false
   },
   "outputs": [
    {
     "name": "stderr",
     "output_type": "stream",
     "text": [
      "D:\\Anaconda3\\lib\\site-packages\\lifetimes\\estimation.py:578: RuntimeWarning: invalid value encountered in log\n",
      "  A_4 = log(a) - log(b + freq - 1) - (r + freq) * log(rec + alpha)\n"
     ]
    },
    {
     "data": {
      "text/plain": [
       "<lifetimes.BetaGeoFitter: fitted with 12489 subjects, a: 0.00, alpha: 15.18, b: 1.53, r: 1.25>"
      ]
     },
     "execution_count": 68,
     "metadata": {},
     "output_type": "execute_result"
    }
   ],
   "source": [
    "from lifetimes import BetaGeoFitter\n",
    "\n",
    "# similar API to scikit-learn and lifelines.\n",
    "bgf = BetaGeoFitter(penalizer_coef=0.0)\n",
    "bgf.fit(summary['frequency'], summary['recency'], summary['T'])\n"
   ]
  },
  {
   "cell_type": "code",
   "execution_count": 69,
   "metadata": {
    "collapsed": false
   },
   "outputs": [
    {
     "name": "stderr",
     "output_type": "stream",
     "text": [
      "D:\\Anaconda3\\lib\\site-packages\\lifetimes\\estimation.py:618: RuntimeWarning: overflow encountered in double_scalars\n",
      "  denominator = 1 + (x > 0) * (a / (b + x - 1)) * ((alpha + T) / (alpha + recency)) ** (r + x)\n"
     ]
    },
    {
     "data": {
      "text/plain": [
       "<matplotlib.axes._subplots.AxesSubplot at 0x277af9fa630>"
      ]
     },
     "execution_count": 69,
     "metadata": {},
     "output_type": "execute_result"
    },
    {
     "data": {
      "image/png": "[encoded data removed]",
      "text/plain": [
       "<matplotlib.figure.Figure at 0x277af9fa668>"
      ]
     },
     "metadata": {},
     "output_type": "display_data"
    }
   ],
   "source": [
    "from lifetimes.plotting import plot_frequency_recency_matrix\n",
    "\n",
    "plot_frequency_recency_matrix(bgf)"
   ]
  },
  {
   "cell_type": "markdown",
   "metadata": {},
   "source": [
    "We can see that if a customer has bought 500 times, and their lastest purchase was when they were 350 days old (given the individual is 350 days old), then they are your best customer (bottom-right). Your coldest customers are those that are in the top-right corner: they bought a lot quickly, and we haven't seen them in days."
   ]
  },
  {
   "cell_type": "code",
   "execution_count": 70,
   "metadata": {
    "collapsed": false
   },
   "outputs": [
    {
     "name": "stderr",
     "output_type": "stream",
     "text": [
      "D:\\Anaconda3\\lib\\site-packages\\lifetimes\\estimation.py:636: RuntimeWarning: overflow encountered in power\n",
      "  return 1. / (1 + (frequency > 0) * (a / (b + frequency - 1)) * ((alpha + T) / (alpha + recency)) ** (r + frequency))\n"
     ]
    },
    {
     "data": {
      "text/plain": [
       "<matplotlib.axes._subplots.AxesSubplot at 0x277afa207f0>"
      ]
     },
     "execution_count": 70,
     "metadata": {},
     "output_type": "execute_result"
    },
    {
     "data": {
      "image/png": "[encoded data removed]",
      "text/plain": [
       "<matplotlib.figure.Figure at 0x277a688ba58>"
      ]
     },
     "metadata": {},
     "output_type": "display_data"
    }
   ],
   "source": [
    "from lifetimes.plotting import plot_probability_alive_matrix\n",
    "\n",
    "plot_probability_alive_matrix(bgf)"
   ]
  },
  {
   "cell_type": "code",
   "execution_count": 71,
   "metadata": {
    "collapsed": false
   },
   "outputs": [
    {
     "data": {
      "text/html": [
       "<div>\n",
       "<table border=\"1\" class=\"dataframe\">\n",
       "  <thead>\n",
       "    <tr style=\"text-align: right;\">\n",
       "      <th></th>\n",
       "      <th>frequency</th>\n",
       "      <th>recency</th>\n",
       "      <th>T</th>\n",
       "      <th>monetary_value</th>\n",
       "      <th>predicted_purchases</th>\n",
       "    </tr>\n",
       "    <tr>\n",
       "      <th>cust_id</th>\n",
       "      <th></th>\n",
       "      <th></th>\n",
       "      <th></th>\n",
       "      <th></th>\n",
       "      <th></th>\n",
       "    </tr>\n",
       "  </thead>\n",
       "  <tbody>\n",
       "    <tr>\n",
       "      <th>7048138234</th>\n",
       "      <td>60.0</td>\n",
       "      <td>33.0</td>\n",
       "      <td>35.0</td>\n",
       "      <td>7.346154</td>\n",
       "      <td>1.220693</td>\n",
       "    </tr>\n",
       "    <tr>\n",
       "      <th>4232061834</th>\n",
       "      <td>511.0</td>\n",
       "      <td>371.0</td>\n",
       "      <td>373.0</td>\n",
       "      <td>5.346774</td>\n",
       "      <td>1.319631</td>\n",
       "    </tr>\n",
       "    <tr>\n",
       "      <th>4302370736</th>\n",
       "      <td>539.0</td>\n",
       "      <td>373.0</td>\n",
       "      <td>373.0</td>\n",
       "      <td>3.909396</td>\n",
       "      <td>1.391763</td>\n",
       "    </tr>\n",
       "    <tr>\n",
       "      <th>4257909036</th>\n",
       "      <td>532.0</td>\n",
       "      <td>340.0</td>\n",
       "      <td>340.0</td>\n",
       "      <td>9.960784</td>\n",
       "      <td>1.501364</td>\n",
       "    </tr>\n",
       "    <tr>\n",
       "      <th>5183161534</th>\n",
       "      <td>542.0</td>\n",
       "      <td>340.0</td>\n",
       "      <td>342.0</td>\n",
       "      <td>8.471861</td>\n",
       "      <td>1.520955</td>\n",
       "    </tr>\n",
       "  </tbody>\n",
       "</table>\n",
       "</div>"
      ],
      "text/plain": [
       "            frequency  recency      T  monetary_value  predicted_purchases\n",
       "cust_id                                                                   \n",
       "7048138234       60.0     33.0   35.0        7.346154             1.220693\n",
       "4232061834      511.0    371.0  373.0        5.346774             1.319631\n",
       "4302370736      539.0    373.0  373.0        3.909396             1.391763\n",
       "4257909036      532.0    340.0  340.0        9.960784             1.501364\n",
       "5183161534      542.0    340.0  342.0        8.471861             1.520955"
      ]
     },
     "execution_count": 71,
     "metadata": {},
     "output_type": "execute_result"
    }
   ],
   "source": [
    "#Ranking customers from best to worst\n",
    "#Let's return to our customers and rank them from \"highest expected purchases in the next period\" to lowest. Models expose a method that will predict a customer's expected purchases in the next period using their history.\n",
    "t = 1\n",
    "summary['predicted_purchases'] = bgf.conditional_expected_number_of_purchases_up_to_time(t, summary['frequency'], summary['recency'], summary['T'])\n",
    "summary.sort_values(by='predicted_purchases').tail(5)\n"
   ]
  },
  {
   "cell_type": "markdown",
   "metadata": {},
   "source": [
    "<b>Assuming time period as 1 day, we can see that Customer ID 5183161534 who has made a purchase of 542 times, and has made a purchase most recently, is most likely to purchase again.</b>\n",
    "\n",
    "### Assessing model fit\n",
    "\n",
    "Ok, we can predict and we can visualize our customers' behaviour, but is our model correct? There are a few ways to assess the model's correctness. The first is to compare our data versus artifical data simulated with our fitted model's parameters."
   ]
  },
  {
   "cell_type": "code",
   "execution_count": 72,
   "metadata": {
    "collapsed": false
   },
   "outputs": [
    {
     "data": {
      "text/plain": [
       "<matplotlib.axes._subplots.AxesSubplot at 0x277a76ed4e0>"
      ]
     },
     "execution_count": 72,
     "metadata": {},
     "output_type": "execute_result"
    },
    {
     "data": {
      "image/png": "[encoded data removed]",
      "text/plain": [
       "<matplotlib.figure.Figure at 0x277a770db38>"
      ]
     },
     "metadata": {},
     "output_type": "display_data"
    }
   ],
   "source": [
    "from lifetimes.plotting import plot_period_transactions\n",
    "plot_period_transactions(bgf)"
   ]
  },
  {
   "cell_type": "markdown",
   "metadata": {},
   "source": [
    "We can partition the dataset into a calibration period dataset and a holdout dataset. This is important as we want to test how our model performs on data not yet seen (cross-validation in standard machine learning literature). "
   ]
  },
  {
   "cell_type": "code",
   "execution_count": 73,
   "metadata": {
    "collapsed": false
   },
   "outputs": [
    {
     "data": {
      "text/html": [
       "<div>\n",
       "<table border=\"1\" class=\"dataframe\">\n",
       "  <thead>\n",
       "    <tr style=\"text-align: right;\">\n",
       "      <th></th>\n",
       "      <th>frequency_cal</th>\n",
       "      <th>recency_cal</th>\n",
       "      <th>T_cal</th>\n",
       "      <th>frequency_holdout</th>\n",
       "      <th>duration_holdout</th>\n",
       "    </tr>\n",
       "    <tr>\n",
       "      <th>cust_id</th>\n",
       "      <th></th>\n",
       "      <th></th>\n",
       "      <th></th>\n",
       "      <th></th>\n",
       "      <th></th>\n",
       "    </tr>\n",
       "  </thead>\n",
       "  <tbody>\n",
       "    <tr>\n",
       "      <th>4239597436</th>\n",
       "      <td>60.0</td>\n",
       "      <td>281.0</td>\n",
       "      <td>286.0</td>\n",
       "      <td>7</td>\n",
       "      <td>87</td>\n",
       "    </tr>\n",
       "    <tr>\n",
       "      <th>4913827536</th>\n",
       "      <td>10.0</td>\n",
       "      <td>276.0</td>\n",
       "      <td>286.0</td>\n",
       "      <td>3</td>\n",
       "      <td>87</td>\n",
       "    </tr>\n",
       "    <tr>\n",
       "      <th>4271866537</th>\n",
       "      <td>90.0</td>\n",
       "      <td>285.0</td>\n",
       "      <td>286.0</td>\n",
       "      <td>13</td>\n",
       "      <td>87</td>\n",
       "    </tr>\n",
       "    <tr>\n",
       "      <th>5316845735</th>\n",
       "      <td>71.0</td>\n",
       "      <td>285.0</td>\n",
       "      <td>286.0</td>\n",
       "      <td>17</td>\n",
       "      <td>87</td>\n",
       "    </tr>\n",
       "    <tr>\n",
       "      <th>4396245635</th>\n",
       "      <td>75.0</td>\n",
       "      <td>267.0</td>\n",
       "      <td>286.0</td>\n",
       "      <td>15</td>\n",
       "      <td>87</td>\n",
       "    </tr>\n",
       "  </tbody>\n",
       "</table>\n",
       "</div>"
      ],
      "text/plain": [
       "            frequency_cal  recency_cal  T_cal  frequency_holdout  \\\n",
       "cust_id                                                            \n",
       "4239597436           60.0        281.0  286.0                  7   \n",
       "4913827536           10.0        276.0  286.0                  3   \n",
       "4271866537           90.0        285.0  286.0                 13   \n",
       "5316845735           71.0        285.0  286.0                 17   \n",
       "4396245635           75.0        267.0  286.0                 15   \n",
       "\n",
       "            duration_holdout  \n",
       "cust_id                       \n",
       "4239597436                87  \n",
       "4913827536                87  \n",
       "4271866537                87  \n",
       "5316845735                87  \n",
       "4396245635                87  "
      ]
     },
     "execution_count": 73,
     "metadata": {},
     "output_type": "execute_result"
    }
   ],
   "source": [
    "from lifetimes.utils import calibration_and_holdout_data\n",
    "\n",
    "summary_cal_holdout = calibration_and_holdout_data(df, 'cust_id', 'order_date',\n",
    "                                        calibration_period_end='2015-12-31',\n",
    "                                        observation_period_end='2016-03-27' )   \n",
    "summary_cal_holdout.head()"
   ]
  },
  {
   "cell_type": "markdown",
   "metadata": {},
   "source": [
    "With this dataset, we can perform fitting on the _cal columns, and test on the _holdout columns:"
   ]
  },
  {
   "cell_type": "code",
   "execution_count": 75,
   "metadata": {
    "collapsed": false
   },
   "outputs": [
    {
     "data": {
      "text/plain": [
       "<matplotlib.axes._subplots.AxesSubplot at 0x277a7760c88>"
      ]
     },
     "execution_count": 75,
     "metadata": {},
     "output_type": "execute_result"
    },
    {
     "data": {
      "image/png": "[encoded data removed]",
      "text/plain": [
       "<matplotlib.figure.Figure at 0x277a7760160>"
      ]
     },
     "metadata": {},
     "output_type": "display_data"
    }
   ],
   "source": [
    "from lifetimes.plotting import plot_calibration_purchases_vs_holdout_purchases\n",
    "\n",
    "bgf.fit(summary_cal_holdout['frequency_cal'], summary_cal_holdout['recency_cal'], summary_cal_holdout['T_cal'])\n",
    "plot_calibration_purchases_vs_holdout_purchases(bgf, summary_cal_holdout)"
   ]
  },
  {
   "cell_type": "markdown",
   "metadata": {},
   "source": [
    "So we can see that our model gives a conservative estimate of purchases made, which is a decent model to predict any purchases made in the future."
   ]
  },
  {
   "cell_type": "markdown",
   "metadata": {},
   "source": [
    "### Customer Predictions\n",
    "\n",
    "Based on customer history, we can predict what an individuals future purchases might look like:"
   ]
  },
  {
   "cell_type": "code",
   "execution_count": 76,
   "metadata": {
    "collapsed": false
   },
   "outputs": [
    {
     "data": {
      "text/plain": [
       "0.30963553485765066"
      ]
     },
     "execution_count": 76,
     "metadata": {},
     "output_type": "execute_result"
    }
   ],
   "source": [
    "t = 7 #predict purchases in 7 periods (in this case days)\n",
    "individual = summary.iloc[10000]\n",
    "# The below function is an alias to `bfg.conditional_expected_number_of_purchases_up_to_time`\n",
    "bgf.predict(t, individual['frequency'], individual['recency'], individual['T'])"
   ]
  },
  {
   "cell_type": "markdown",
   "metadata": {},
   "source": [
    "<b>Here, we can see that our model has given a 30.9% probability that the customer id at location 10000 will make a purchase in the next 7 days.</b>"
   ]
  },
  {
   "cell_type": "markdown",
   "metadata": {},
   "source": [
    "### Estimating Customers' Purchased Units\n",
    "\n",
    "For this whole time we didn't take into account the number of units for each transaction and we focused mainly on transactions' occurrences. To estimate this we can use the Gamma-Gamma submodel. But first we need to create summary data from transactional data also containing economic values for each transaction (i.e. units purchased)."
   ]
  },
  {
   "cell_type": "code",
   "execution_count": 83,
   "metadata": {
    "collapsed": false
   },
   "outputs": [
    {
     "data": {
      "text/html": [
       "<div>\n",
       "<table border=\"1\" class=\"dataframe\">\n",
       "  <thead>\n",
       "    <tr style=\"text-align: right;\">\n",
       "      <th></th>\n",
       "      <th>frequency</th>\n",
       "      <th>recency</th>\n",
       "      <th>T</th>\n",
       "      <th>monetary_value</th>\n",
       "    </tr>\n",
       "    <tr>\n",
       "      <th>cust_id</th>\n",
       "      <th></th>\n",
       "      <th></th>\n",
       "      <th></th>\n",
       "      <th></th>\n",
       "    </tr>\n",
       "  </thead>\n",
       "  <tbody>\n",
       "    <tr>\n",
       "      <th>4239597436</th>\n",
       "      <td>69.0</td>\n",
       "      <td>372.0</td>\n",
       "      <td>373.0</td>\n",
       "      <td>4.406780</td>\n",
       "    </tr>\n",
       "    <tr>\n",
       "      <th>4913827536</th>\n",
       "      <td>13.0</td>\n",
       "      <td>372.0</td>\n",
       "      <td>373.0</td>\n",
       "      <td>3.181818</td>\n",
       "    </tr>\n",
       "    <tr>\n",
       "      <th>4271866537</th>\n",
       "      <td>103.0</td>\n",
       "      <td>369.0</td>\n",
       "      <td>373.0</td>\n",
       "      <td>2.654321</td>\n",
       "    </tr>\n",
       "    <tr>\n",
       "      <th>5316845735</th>\n",
       "      <td>89.0</td>\n",
       "      <td>372.0</td>\n",
       "      <td>373.0</td>\n",
       "      <td>1.647059</td>\n",
       "    </tr>\n",
       "    <tr>\n",
       "      <th>4396245635</th>\n",
       "      <td>93.0</td>\n",
       "      <td>370.0</td>\n",
       "      <td>373.0</td>\n",
       "      <td>4.164384</td>\n",
       "    </tr>\n",
       "  </tbody>\n",
       "</table>\n",
       "</div>"
      ],
      "text/plain": [
       "            frequency  recency      T  monetary_value\n",
       "cust_id                                              \n",
       "4239597436       69.0    372.0  373.0        4.406780\n",
       "4913827536       13.0    372.0  373.0        3.181818\n",
       "4271866537      103.0    369.0  373.0        2.654321\n",
       "5316845735       89.0    372.0  373.0        1.647059\n",
       "4396245635       93.0    370.0  373.0        4.164384"
      ]
     },
     "execution_count": 83,
     "metadata": {},
     "output_type": "execute_result"
    }
   ],
   "source": [
    "summary_with_units_value = summary_data_from_transaction_data(df, 'cust_id', 'order_date','units_purchased', observation_period_end='2016-03-27')\n",
    "summary_with_units_value.head()\n"
   ]
  },
  {
   "cell_type": "code",
   "execution_count": 84,
   "metadata": {
    "collapsed": false,
    "scrolled": true
   },
   "outputs": [
    {
     "data": {
      "text/html": [
       "<div>\n",
       "<table border=\"1\" class=\"dataframe\">\n",
       "  <thead>\n",
       "    <tr style=\"text-align: right;\">\n",
       "      <th></th>\n",
       "      <th>frequency</th>\n",
       "      <th>recency</th>\n",
       "      <th>T</th>\n",
       "      <th>monetary_value</th>\n",
       "    </tr>\n",
       "    <tr>\n",
       "      <th>cust_id</th>\n",
       "      <th></th>\n",
       "      <th></th>\n",
       "      <th></th>\n",
       "      <th></th>\n",
       "    </tr>\n",
       "  </thead>\n",
       "  <tbody>\n",
       "    <tr>\n",
       "      <th>4271866537</th>\n",
       "      <td>103.0</td>\n",
       "      <td>369.0</td>\n",
       "      <td>373.0</td>\n",
       "      <td>2.654321</td>\n",
       "    </tr>\n",
       "    <tr>\n",
       "      <th>5316845735</th>\n",
       "      <td>89.0</td>\n",
       "      <td>372.0</td>\n",
       "      <td>373.0</td>\n",
       "      <td>1.647059</td>\n",
       "    </tr>\n",
       "    <tr>\n",
       "      <th>4046493433</th>\n",
       "      <td>87.0</td>\n",
       "      <td>372.0</td>\n",
       "      <td>373.0</td>\n",
       "      <td>2.795181</td>\n",
       "    </tr>\n",
       "    <tr>\n",
       "      <th>4186945433</th>\n",
       "      <td>227.0</td>\n",
       "      <td>371.0</td>\n",
       "      <td>373.0</td>\n",
       "      <td>1.591623</td>\n",
       "    </tr>\n",
       "    <tr>\n",
       "      <th>4223423334</th>\n",
       "      <td>24.0</td>\n",
       "      <td>365.0</td>\n",
       "      <td>372.0</td>\n",
       "      <td>2.380952</td>\n",
       "    </tr>\n",
       "  </tbody>\n",
       "</table>\n",
       "</div>"
      ],
      "text/plain": [
       "            frequency  recency      T  monetary_value\n",
       "cust_id                                              \n",
       "4271866537      103.0    369.0  373.0        2.654321\n",
       "5316845735       89.0    372.0  373.0        1.647059\n",
       "4046493433       87.0    372.0  373.0        2.795181\n",
       "4186945433      227.0    371.0  373.0        1.591623\n",
       "4223423334       24.0    365.0  372.0        2.380952"
      ]
     },
     "execution_count": 84,
     "metadata": {},
     "output_type": "execute_result"
    }
   ],
   "source": [
    "#Filter by Purchase frequency > 0\n",
    "returning_customers_summary = summary_with_units_value[summary_with_units_value['frequency']>0]\n",
    "\n",
    "#Filter by Units Purchased < 3\n",
    "returning_customers_summary2 = returning_customers_summary[returning_customers_summary['monetary_value']<3]\n",
    "returning_customers_summary2.head()"
   ]
  },
  {
   "cell_type": "markdown",
   "metadata": {},
   "source": [
    "#### This is the shortlist customers who will have a purchase frequency > 0 and number of units purchased < 3. Next we will predict  the number of purchases that will be made by these customers in the coming 7 days."
   ]
  },
  {
   "cell_type": "code",
   "execution_count": 82,
   "metadata": {
    "collapsed": false
   },
   "outputs": [
    {
     "data": {
      "text/plain": [
       "cust_id\n",
       "4271866537    1.887516\n",
       "5316845735    1.633672\n",
       "4046493433    1.597376\n",
       "4186945433    4.137871\n",
       "4223423334    0.455162\n",
       "4437644235    0.091560\n",
       "4303877234    0.146678\n",
       "4435875536    1.042845\n",
       "4128233833    0.809338\n",
       "4277121833    0.570258\n",
       "4473439534    0.332153\n",
       "5038473134    0.627127\n",
       "4347922434    0.903554\n",
       "4019821234    0.906027\n",
       "4186974137    0.713908\n",
       "4163347937    0.791167\n",
       "4328344535    0.510152\n",
       "4204217936    0.340256\n",
       "5732619536    0.493962\n",
       "4352278836    0.399040\n",
       "5600340733    0.892605\n",
       "4989149437    0.215017\n",
       "4016008136    0.316113\n",
       "5002759037    0.357576\n",
       "4303863233    0.315984\n",
       "6584461737    0.237522\n",
       "6500304437    0.409932\n",
       "5170443836    0.371638\n",
       "6652100034    0.396570\n",
       "6653819036    0.174407\n",
       "                ...   \n",
       "4481288437    0.236891\n",
       "4277113736    0.509737\n",
       "4259474235    0.091560\n",
       "4328316934    0.515187\n",
       "4181004733    0.499377\n",
       "4878834537    0.260509\n",
       "4128225736    0.373942\n",
       "4328344534    0.169377\n",
       "4227770535    0.263299\n",
       "4245350035    0.357170\n",
       "5801503835    0.132184\n",
       "4618399234    0.565313\n",
       "4900860633    0.514921\n",
       "4397987837    0.101616\n",
       "4256451437    0.287138\n",
       "4050004334    0.144624\n",
       "5336994537    0.331036\n",
       "4019771536    0.539316\n",
       "4178128433    0.188057\n",
       "4426539537    0.411263\n",
       "5447106634    0.175016\n",
       "5361061737    0.155126\n",
       "4296580833    0.111634\n",
       "4521886433    0.438403\n",
       "5291267135    0.202098\n",
       "4213627935    0.156798\n",
       "6798074933    0.289739\n",
       "6813568433    0.191221\n",
       "4291076333    0.204196\n",
       "4019725536    0.753772\n",
       "dtype: float64"
      ]
     },
     "execution_count": 82,
     "metadata": {},
     "output_type": "execute_result"
    }
   ],
   "source": [
    "bgf.predict(t, returning_customers_summary2['frequency'], returning_customers_summary2['recency'], returning_customers_summary2['T'])\n",
    "# t = 7 days"
   ]
  },
  {
   "cell_type": "markdown",
   "metadata": {},
   "source": [
    "### So we can see that Customer Id 4271866537 is expected to make 1.88 purchases in the next 7 days! There are 4275 customers in this list."
   ]
  },
  {
   "cell_type": "markdown",
   "metadata": {},
   "source": [
    "## Next Steps"
   ]
  },
  {
   "cell_type": "markdown",
   "metadata": {},
   "source": [
    "### Additional Data that might help\n",
    "\n",
    "In this dataset, we only had information of transaction date, amount and number of units for a given customer id. If the end objective is to create user segments that will be used for marketing campaigns, we can do a lot with more data points.\n",
    "\n",
    "1. Gender\n",
    "2. Age\n",
    "1. Medium of Purchase\n",
    "1. Reviews\n",
    "4. Click stream data\n",
    "5. Discounts availed\n",
    "6. Income of customer\n",
    "\n",
    "These are a few data points that could help with better segmentation of users. "
   ]
  }
 ],
 "metadata": {
  "anaconda-cloud": {},
  "kernelspec": {
   "display_name": "Python [Root]",
   "language": "python",
   "name": "Python [Root]"
  },
  "language_info": {
   "codemirror_mode": {
    "name": "ipython",
    "version": 3
   },
   "file_extension": ".py",
   "mimetype": "text/x-python",
   "name": "python",
   "nbconvert_exporter": "python",
   "pygments_lexer": "ipython3",
   "version": "3.5.2"
  }
 },
 "nbformat": 4,
 "nbformat_minor": 0
}
